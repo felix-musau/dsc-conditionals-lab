{
 "cells": [
  {
   "cell_type": "markdown",
   "metadata": {},
   "source": [
    "# Control Flow: Conditionals - Lab\n",
    "\n",
    "## Introduction\n",
    "Now that you have been introduced to conditionals, let's put your knowledge to test and create some conditional statements that selectively assign values to variables based on whether they pass the conditions we set.\n",
    "\n",
    "## Objectives\n",
    "\n",
    "You will be able to:\n",
    "\n",
    "* Use Python conditional statements\n",
    "\n",
    "## Instructions\n",
    "\n",
    "Let's use our knowledge of variables and conditionals to assign values based on different conditions. Follow the instructions below to properly assign the values.\n",
    "\n",
    "With the given code in the cell below, use what you know about numbers and conditionals to assign a value to `my_number` and follow the directions given in the comments below. Use this as a guide to structuring the rest of the problems in this lab."
   ]
  },
  {
   "cell_type": "code",
   "execution_count": 3,
   "metadata": {},
   "outputs": [
    {
     "data": {
      "text/plain": [
       "100"
      ]
     },
     "execution_count": 3,
     "metadata": {},
     "output_type": "execute_result"
    }
   ],
   "source": []
  },
  {
   "cell_type": "markdown",
   "metadata": {},
   "source": [
    "Below, use conditionals to tell whether it is hot outside or not. If it is hot, assign the string `\"It is so hot out!\"` to the variable `is_it_hot`. If it is not hot, assign the string `\"This is nothing! Bring on the heat.\"`. For our purposes, anything over `80` degrees is considered hot."
   ]
  },
  {
   "cell_type": "code",
   "execution_count": 19,
   "metadata": {},
   "outputs": [
    {
     "data": {
      "text/plain": [
       "'It is so hot outside!🥵'"
      ]
     },
     "execution_count": 19,
     "metadata": {},
     "output_type": "execute_result"
    }
   ],
   "source": [
    "temperature = 100000000000000000000\n",
    "is_it_hot = None\n",
    "if temperature > 35:\n",
    "    is_it_hot = \"It is so hot outside!🥵\"\n",
    "elif temperature == 35:\n",
    "    is_it_hot = \"Its quite normal outside! ☺\"\n",
    "else:\n",
    "    is_it_hot = \"Its cold outside🥶\"\n",
    "is_it_hot\n",
    "    \n",
    "# conditionals go here"
   ]
  },
  {
   "cell_type": "markdown",
   "metadata": {},
   "source": [
    "Next, let's see what day of the week it is. There are 7 days in the week starting with Sunday at day `1` and ending with Saturday at day `7`. Use conditional statements to assign the day of the week to the variable `day_of_the_week` based on the number below assigned to the variable `today_is`.\n",
    "For example, if the day is `2`, we would assign `day_of_the_week` the value `\"Monday\"`."
   ]
  },
  {
   "cell_type": "code",
   "execution_count": 29,
   "metadata": {},
   "outputs": [
    {
     "name": "stdout",
     "output_type": "stream",
     "text": [
      "Enter a number below 8 and above 1\n"
     ]
    }
   ],
   "source": [
    "day = None\n",
    "date = 0\n",
    "if date == 1:\n",
    "    day= \"Sunday\"\n",
    "    print(f\"Today is on a {day}\")\n",
    "elif date == 2:\n",
    "    day= \"Monday\"\n",
    "    print(f\"Today is on a {day}\")\n",
    "elif date == 3:\n",
    "    day= \"Tuesday\"\n",
    "    print(f\"Today is on a {day}\")\n",
    "elif date == 4:\n",
    "    day= \"Wednesday\"\n",
    "    print(f\"Today is on a {day}\")\n",
    "elif date == 5:\n",
    "    day= \"Thursday\"\n",
    "    print(f\"Today is on a {day}\")\n",
    "elif date == 6:\n",
    "    day= \"Friday\"\n",
    "    print(f\"Today is on a {day}\")\n",
    "elif date == 7:\n",
    "    day= \"Saturday\"\n",
    "    print(f\"Today is on a {day}\")\n",
    "else:\n",
    "    print(\"Enter a number below 8 and above 1\")\n",
    "\n",
    "\n"
   ]
  },
  {
   "cell_type": "markdown",
   "metadata": {},
   "source": [
    "Finally, let's take a string and see if it ends with a certain substring. If it does, assign the variable `ends_with` to `True`, and if it does not, assign it to `False`. For example, if have the string \"School\" and we want to know if it ends with the sub-string \"cool\". In this case it does not, so, we would assign `False` to the variable `ends_with`. "
   ]
  },
  {
   "cell_type": "code",
   "execution_count": 33,
   "metadata": {},
   "outputs": [
    {
     "name": "stdout",
     "output_type": "stream",
     "text": [
      "He does not belong to the royal family\n"
     ]
    }
   ],
   "source": [
    "name = \"Bruno David King Felix\"\n",
    "if name.endswith(\"King\") is True:\n",
    "    print(\"He belongs to the royal family\")\n",
    "else:\n",
    "    print(\"He does not belong to the royal family\")\n"
   ]
  },
  {
   "attachments": {},
   "cell_type": "markdown",
   "metadata": {},
   "source": [
    "## Summary\n",
    "\n",
    "Great! In this lab we saw how to use our knowledge of conditionals to selectively assign values based on a condition. We will start integrating conditionals in many more ways in our code and we will start to see how useful they can become in more complex problems."
   ]
  }
 ],
 "metadata": {
  "kernelspec": {
   "display_name": "Python 3 (ipykernel)",
   "language": "python",
   "name": "python3"
  },
  "language_info": {
   "codemirror_mode": {
    "name": "ipython",
    "version": 3
   },
   "file_extension": ".py",
   "mimetype": "text/x-python",
   "name": "python",
   "nbconvert_exporter": "python",
   "pygments_lexer": "ipython3",
   "version": "3.11.7"
  },
  "toc": {
   "base_numbering": 1,
   "nav_menu": {},
   "number_sections": true,
   "sideBar": true,
   "skip_h1_title": false,
   "title_cell": "Table of Contents",
   "title_sidebar": "Contents",
   "toc_cell": false,
   "toc_position": {},
   "toc_section_display": true,
   "toc_window_display": false
  }
 },
 "nbformat": 4,
 "nbformat_minor": 4
}
